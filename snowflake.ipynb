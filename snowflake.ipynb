{
 "cells": [
  {
   "cell_type": "code",
   "execution_count": 1,
   "id": "85b545a2-db4e-4732-809a-f115a9692e68",
   "metadata": {},
   "outputs": [
    {
     "name": "stdout",
     "output_type": "stream",
     "text": [
      "Collecting pandas\n",
      "  Downloading pandas-2.2.2-cp311-cp311-manylinux_2_17_x86_64.manylinux2014_x86_64.whl.metadata (19 kB)\n",
      "Collecting numpy>=1.23.2 (from pandas)\n",
      "  Downloading numpy-2.0.0-cp311-cp311-manylinux_2_17_x86_64.manylinux2014_x86_64.whl.metadata (60 kB)\n",
      "\u001b[2K     \u001b[90m━━━━━━━━━━━━━━━━━━━━━━━━━━━━━━━━━━━━━━━\u001b[0m \u001b[32m60.9/60.9 kB\u001b[0m \u001b[31m635.8 kB/s\u001b[0m eta \u001b[36m0:00:00\u001b[0m \u001b[36m0:00:01\u001b[0m\n",
      "\u001b[?25hRequirement already satisfied: python-dateutil>=2.8.2 in /opt/conda/lib/python3.11/site-packages (from pandas) (2.8.2)\n",
      "Requirement already satisfied: pytz>=2020.1 in /opt/conda/lib/python3.11/site-packages (from pandas) (2023.3.post1)\n",
      "Collecting tzdata>=2022.7 (from pandas)\n",
      "  Downloading tzdata-2024.1-py2.py3-none-any.whl.metadata (1.4 kB)\n",
      "Requirement already satisfied: six>=1.5 in /opt/conda/lib/python3.11/site-packages (from python-dateutil>=2.8.2->pandas) (1.16.0)\n",
      "Downloading pandas-2.2.2-cp311-cp311-manylinux_2_17_x86_64.manylinux2014_x86_64.whl (13.0 MB)\n",
      "\u001b[2K   \u001b[90m━━━━━━━━━━━━━━━━━━━━━━━━━━━━━━━━━━━━━━━━\u001b[0m \u001b[32m13.0/13.0 MB\u001b[0m \u001b[31m4.8 MB/s\u001b[0m eta \u001b[36m0:00:00\u001b[0m00:01\u001b[0m00:01\u001b[0m\n",
      "\u001b[?25hDownloading numpy-2.0.0-cp311-cp311-manylinux_2_17_x86_64.manylinux2014_x86_64.whl (19.3 MB)\n",
      "\u001b[2K   \u001b[90m━━━━━━━━━━━━━━━━━━━━━━━━━━━━━━━━━━━━━━━━\u001b[0m \u001b[32m19.3/19.3 MB\u001b[0m \u001b[31m1.3 MB/s\u001b[0m eta \u001b[36m0:00:00\u001b[0m00:01\u001b[0m00:01\u001b[0m\n",
      "\u001b[?25hDownloading tzdata-2024.1-py2.py3-none-any.whl (345 kB)\n",
      "\u001b[2K   \u001b[90m━━━━━━━━━━━━━━━━━━━━━━━━━━━━━━━━━━━━━━━\u001b[0m \u001b[32m345.4/345.4 kB\u001b[0m \u001b[31m253.8 kB/s\u001b[0m eta \u001b[36m0:00:00\u001b[0ma \u001b[36m0:00:01\u001b[0m\n",
      "\u001b[?25hInstalling collected packages: tzdata, numpy, pandas\n",
      "Successfully installed numpy-2.0.0 pandas-2.2.2 tzdata-2024.1\n"
     ]
    }
   ],
   "source": [
    "!pip install pandas"
   ]
  },
  {
   "cell_type": "code",
   "execution_count": 2,
   "id": "108eec4d-e586-48b7-9176-7e3ac4b83366",
   "metadata": {},
   "outputs": [
    {
     "name": "stdout",
     "output_type": "stream",
     "text": [
      "Collecting pyarrow\n",
      "  Downloading pyarrow-16.1.0-cp311-cp311-manylinux_2_28_x86_64.whl.metadata (3.0 kB)\n",
      "Requirement already satisfied: numpy>=1.16.6 in /opt/conda/lib/python3.11/site-packages (from pyarrow) (2.0.0)\n",
      "Downloading pyarrow-16.1.0-cp311-cp311-manylinux_2_28_x86_64.whl (40.8 MB)\n",
      "\u001b[2K   \u001b[90m━━━━━━━━━━━━━━━━━━━━━━━━━━━━━━━━━━━━━━━━\u001b[0m \u001b[32m40.8/40.8 MB\u001b[0m \u001b[31m4.8 MB/s\u001b[0m eta \u001b[36m0:00:00\u001b[0m00:01\u001b[0m00:01\u001b[0m\n",
      "\u001b[?25hInstalling collected packages: pyarrow\n",
      "Successfully installed pyarrow-16.1.0\n"
     ]
    }
   ],
   "source": [
    "!pip install pyarrow"
   ]
  },
  {
   "cell_type": "code",
   "execution_count": 3,
   "id": "17e3211a-d1ed-4178-b0de-117fd8e07c77",
   "metadata": {},
   "outputs": [
    {
     "name": "stdout",
     "output_type": "stream",
     "text": [
      "Fetched 10 records starting from index 0:\n",
      "Column names in the DataFrame: ['proceedingFilingDate', 'proceedingStatusCategory', 'proceedingNumber', 'proceedingLastModifiedDate', 'proceedingTypeCategory', 'subproceedingTypeCategory', 'respondentTechnologyCenterNumber', 'respondentPartyName', 'respondentGroupArtUnitNumber', 'respondentApplicationNumberText', 'decisionDate', 'appellantTechnologyCenterNumber', 'appellantPatentOwnerName', 'appellantPartyName', 'appellantGroupArtUnitNumber', 'appellantInventorName', 'appellantCounselName', 'appellantApplicationNumberText', 'additionalRespondentPartyDataBag', 'respondentPatentNumber', 'appellantGrantDate', 'appellantPatentNumber', 'respondentPatentOwnerName', 'respondentInventorName', 'respondentGrantDate', 'declarationDate', 'styleNameText', 'petitionerTechnologyCenterNumber', 'petitionerGroupArtUnitNumber', 'secondRespondentPartyName', 'secondRespondentApplNumberText', 'secondRespondentPatentNumber', 'secondRespondentGrantDate', 'secondRespondentPatentOwnerName', 'secondRespondentInventorName', 'secondRespondentGAUNumber', 'secondRespondentTechCenterNumber']\n",
      "Appended records starting from index 0 to ptab_proceedings_key_columns.parquet\n",
      "Fetched 10 records starting from index 10:\n",
      "Column names in the DataFrame: ['proceedingFilingDate', 'proceedingStatusCategory', 'proceedingNumber', 'proceedingLastModifiedDate', 'proceedingTypeCategory', 'subproceedingTypeCategory', 'respondentTechnologyCenterNumber', 'respondentPatentOwnerName', 'respondentPartyName', 'respondentGroupArtUnitNumber', 'respondentInventorName', 'respondentGrantDate', 'respondentPatentNumber', 'respondentApplicationNumberText', 'petitionerTechnologyCenterNumber', 'petitionerGroupArtUnitNumber', 'decisionDate', 'declarationDate', 'secondRespondentPartyName', 'secondRespondentApplNumberText', 'secondRespondentPatentNumber', 'secondRespondentGrantDate', 'secondRespondentPatentOwnerName', 'secondRespondentInventorName', 'secondRespondentGAUNumber', 'secondRespondentTechCenterNumber', 'styleNameText', 'additionalRespondentPartyDataBag']\n",
      "Appended records starting from index 10 to ptab_proceedings_key_columns.parquet\n",
      "Fetched 10 records starting from index 20:\n",
      "Column names in the DataFrame: ['proceedingFilingDate', 'proceedingStatusCategory', 'proceedingNumber', 'proceedingLastModifiedDate', 'proceedingTypeCategory', 'subproceedingTypeCategory', 'respondentTechnologyCenterNumber', 'respondentPatentOwnerName', 'respondentPartyName', 'respondentGroupArtUnitNumber', 'respondentInventorName', 'respondentGrantDate', 'respondentPatentNumber', 'respondentApplicationNumberText', 'petitionerTechnologyCenterNumber', 'petitionerGroupArtUnitNumber', 'decisionDate', 'declarationDate', 'secondRespondentPartyName', 'secondRespondentApplNumberText', 'secondRespondentPatentNumber', 'secondRespondentGrantDate', 'secondRespondentPatentOwnerName', 'secondRespondentInventorName', 'secondRespondentGAUNumber', 'secondRespondentTechCenterNumber', 'styleNameText', 'additionalRespondentPartyDataBag', 'appellantTechnologyCenterNumber', 'appellantPatentOwnerName', 'appellantPartyName', 'appellantGroupArtUnitNumber', 'appellantInventorName', 'appellantCounselName', 'appellantGrantDate', 'appellantPatentNumber', 'appellantApplicationNumberText']\n",
      "Appended records starting from index 20 to ptab_proceedings_key_columns.parquet\n",
      "Fetched 10 records starting from index 30:\n",
      "Column names in the DataFrame: ['proceedingFilingDate', 'proceedingStatusCategory', 'proceedingNumber', 'proceedingLastModifiedDate', 'proceedingTypeCategory', 'subproceedingTypeCategory', 'respondentTechnologyCenterNumber', 'respondentPatentOwnerName', 'respondentPartyName', 'respondentGroupArtUnitNumber', 'respondentInventorName', 'respondentGrantDate', 'respondentPatentNumber', 'respondentApplicationNumberText', 'decisionDate', 'declarationDate', 'styleNameText', 'additionalRespondentPartyDataBag', 'petitionerTechnologyCenterNumber', 'petitionerGroupArtUnitNumber', 'secondRespondentPartyName', 'secondRespondentApplNumberText', 'secondRespondentPatentNumber', 'secondRespondentGrantDate', 'secondRespondentPatentOwnerName', 'secondRespondentInventorName', 'secondRespondentGAUNumber', 'secondRespondentTechCenterNumber', 'appellantTechnologyCenterNumber', 'appellantPatentOwnerName', 'appellantPartyName', 'appellantGroupArtUnitNumber', 'appellantInventorName', 'appellantCounselName', 'appellantGrantDate', 'appellantPatentNumber', 'appellantApplicationNumberText']\n",
      "Appended records starting from index 30 to ptab_proceedings_key_columns.parquet\n",
      "Fetched 10 records starting from index 40:\n",
      "Column names in the DataFrame: ['proceedingFilingDate', 'proceedingStatusCategory', 'proceedingNumber', 'proceedingLastModifiedDate', 'proceedingTypeCategory', 'subproceedingTypeCategory', 'respondentTechnologyCenterNumber', 'respondentPatentOwnerName', 'respondentPartyName', 'respondentGroupArtUnitNumber', 'respondentInventorName', 'respondentGrantDate', 'respondentPatentNumber', 'respondentApplicationNumberText', 'petitionerTechnologyCenterNumber', 'petitionerGroupArtUnitNumber', 'decisionDate', 'declarationDate', 'secondRespondentPartyName', 'secondRespondentApplNumberText', 'secondRespondentPatentNumber', 'secondRespondentGrantDate', 'secondRespondentPatentOwnerName', 'secondRespondentInventorName', 'secondRespondentGAUNumber', 'secondRespondentTechCenterNumber', 'styleNameText', 'additionalRespondentPartyDataBag']\n",
      "Appended records starting from index 40 to ptab_proceedings_key_columns.parquet\n",
      "Fetched 10 records starting from index 50:\n",
      "Column names in the DataFrame: ['proceedingFilingDate', 'proceedingStatusCategory', 'proceedingNumber', 'proceedingLastModifiedDate', 'proceedingTypeCategory', 'subproceedingTypeCategory', 'respondentTechnologyCenterNumber', 'respondentPatentOwnerName', 'respondentPartyName', 'respondentGroupArtUnitNumber', 'respondentInventorName', 'respondentGrantDate', 'respondentPatentNumber', 'respondentApplicationNumberText', 'decisionDate', 'declarationDate', 'styleNameText', 'additionalRespondentPartyDataBag', 'petitionerTechnologyCenterNumber', 'petitionerGroupArtUnitNumber', 'secondRespondentPartyName', 'secondRespondentApplNumberText', 'secondRespondentPatentNumber', 'secondRespondentGrantDate', 'secondRespondentPatentOwnerName', 'secondRespondentInventorName', 'secondRespondentGAUNumber', 'secondRespondentTechCenterNumber']\n",
      "Appended records starting from index 50 to ptab_proceedings_key_columns.parquet\n",
      "Fetched 10 records starting from index 60:\n",
      "Column names in the DataFrame: ['proceedingFilingDate', 'proceedingStatusCategory', 'proceedingNumber', 'proceedingLastModifiedDate', 'proceedingTypeCategory', 'subproceedingTypeCategory', 'respondentTechnologyCenterNumber', 'respondentPatentOwnerName', 'respondentPartyName', 'respondentGroupArtUnitNumber', 'respondentInventorName', 'respondentGrantDate', 'respondentPatentNumber', 'respondentApplicationNumberText', 'decisionDate', 'declarationDate', 'styleNameText', 'additionalRespondentPartyDataBag', 'petitionerTechnologyCenterNumber', 'petitionerGroupArtUnitNumber', 'secondRespondentPartyName', 'secondRespondentApplNumberText', 'secondRespondentPatentNumber', 'secondRespondentGrantDate', 'secondRespondentPatentOwnerName', 'secondRespondentInventorName', 'secondRespondentGAUNumber', 'secondRespondentTechCenterNumber']\n",
      "Appended records starting from index 60 to ptab_proceedings_key_columns.parquet\n",
      "Fetched 10 records starting from index 70:\n",
      "Column names in the DataFrame: ['proceedingFilingDate', 'proceedingStatusCategory', 'proceedingNumber', 'proceedingLastModifiedDate', 'proceedingTypeCategory', 'subproceedingTypeCategory', 'respondentTechnologyCenterNumber', 'respondentPatentOwnerName', 'respondentPartyName', 'respondentGroupArtUnitNumber', 'respondentInventorName', 'respondentGrantDate', 'respondentPatentNumber', 'respondentApplicationNumberText', 'decisionDate', 'declarationDate', 'styleNameText', 'additionalRespondentPartyDataBag', 'petitionerTechnologyCenterNumber', 'petitionerGroupArtUnitNumber', 'secondRespondentPartyName', 'secondRespondentApplNumberText', 'secondRespondentPatentNumber', 'secondRespondentGrantDate', 'secondRespondentPatentOwnerName', 'secondRespondentInventorName', 'secondRespondentGAUNumber', 'secondRespondentTechCenterNumber']\n",
      "Appended records starting from index 70 to ptab_proceedings_key_columns.parquet\n",
      "Fetched 10 records starting from index 80:\n",
      "Column names in the DataFrame: ['proceedingFilingDate', 'proceedingStatusCategory', 'proceedingNumber', 'proceedingLastModifiedDate', 'proceedingTypeCategory', 'subproceedingTypeCategory', 'respondentTechnologyCenterNumber', 'respondentPatentOwnerName', 'respondentPartyName', 'respondentGroupArtUnitNumber', 'respondentInventorName', 'respondentGrantDate', 'respondentPatentNumber', 'respondentApplicationNumberText', 'petitionerTechnologyCenterNumber', 'petitionerGroupArtUnitNumber', 'decisionDate', 'declarationDate', 'secondRespondentPartyName', 'secondRespondentApplNumberText', 'secondRespondentPatentNumber', 'secondRespondentGrantDate', 'secondRespondentPatentOwnerName', 'secondRespondentInventorName', 'secondRespondentGAUNumber', 'secondRespondentTechCenterNumber', 'styleNameText', 'additionalRespondentPartyDataBag', 'respondentPublicationNumber', 'respondentPublicationDate']\n",
      "Appended records starting from index 80 to ptab_proceedings_key_columns.parquet\n",
      "Fetched 10 records starting from index 90:\n",
      "Column names in the DataFrame: ['proceedingFilingDate', 'proceedingStatusCategory', 'proceedingNumber', 'proceedingLastModifiedDate', 'proceedingTypeCategory', 'subproceedingTypeCategory', 'respondentTechnologyCenterNumber', 'respondentPatentOwnerName', 'respondentPartyName', 'respondentGroupArtUnitNumber', 'respondentInventorName', 'respondentGrantDate', 'respondentPatentNumber', 'respondentApplicationNumberText', 'decisionDate', 'declarationDate', 'styleNameText', 'additionalRespondentPartyDataBag', 'petitionerTechnologyCenterNumber', 'petitionerGroupArtUnitNumber', 'secondRespondentPartyName', 'secondRespondentApplNumberText', 'secondRespondentPatentNumber', 'secondRespondentGrantDate', 'secondRespondentPatentOwnerName', 'secondRespondentInventorName', 'secondRespondentGAUNumber', 'secondRespondentTechCenterNumber', 'appellantTechnologyCenterNumber', 'appellantPatentOwnerName', 'appellantPartyName', 'appellantGroupArtUnitNumber', 'appellantInventorName', 'appellantCounselName', 'appellantGrantDate', 'appellantPatentNumber', 'appellantApplicationNumberText']\n",
      "Appended records starting from index 90 to ptab_proceedings_key_columns.parquet\n",
      "Data saved to ptab_proceedings_key_columns.parquet\n"
     ]
    }
   ],
   "source": [
    "import requests\n",
    "import pandas as pd\n",
    "import pyarrow as pa\n",
    "import pyarrow.parquet as pq\n",
    "import os\n",
    "import time\n",
    " \n",
    "url = 'https://developer.uspto.gov/ptab-api/proceedings'\n",
    " \n",
    "params = {\n",
    "    'recordTotalQuantity': '10',\n",
    "    'recordStartNumber': '0'\n",
    "}\n",
    " \n",
    "headers = {\n",
    "    'accept': 'application/json'\n",
    "}\n",
    " \n",
    "total_records_to_fetch = 100\n",
    "records_per_request = 10\n",
    "current_start_number = 0\n",
    "data_list = []\n",
    " \n",
    "parquet_file = 'ptab_proceedings_key_columns.parquet'\n",
    " \n",
    "# Define the schema for consistency\n",
    "key_columns = [\n",
    "    'proceedingNumber',\n",
    "    'proceedingFilingDate',\n",
    "    'proceedingStatusCategory',\n",
    "    'proceedingTypeCategory',\n",
    "    'respondentPartyName',\n",
    "    'appellantPartyName'\n",
    "]\n",
    " \n",
    "schema = pa.schema([\n",
    "    ('proceedingNumber', pa.string()),\n",
    "    ('proceedingFilingDate', pa.string()),\n",
    "    ('proceedingStatusCategory', pa.string()),\n",
    "    ('proceedingTypeCategory', pa.string()),\n",
    "    ('respondentPartyName', pa.string()),\n",
    "    ('appellantPartyName', pa.string())\n",
    "])\n",
    " \n",
    "try:\n",
    "    while current_start_number < total_records_to_fetch:\n",
    "        params['recordStartNumber'] = str(current_start_number)\n",
    " \n",
    "        response = requests.get(url, params=params, headers=headers)\n",
    " \n",
    "        if response.status_code == 200:\n",
    "            data = response.json()\n",
    "            print(f\"Fetched {len(data['results'])} records starting from index {current_start_number}:\")\n",
    "            data_list.extend(data['results'])\n",
    " \n",
    "            # Convert data to DataFrame\n",
    "            df = pd.DataFrame(data['results'])\n",
    "            # Print the column names to identify the correct key columns\n",
    "            print(\"Column names in the DataFrame:\", df.columns.tolist())\n",
    "            # Ensure all key columns are present\n",
    "            for col in key_columns:\n",
    "                if col not in df.columns:\n",
    "                    df[col] = None\n",
    "            # Select the key columns in the correct order\n",
    "            df_key_columns = df[key_columns]\n",
    " \n",
    "            # Append to Parquet file\n",
    "            table = pa.Table.from_pandas(df_key_columns, schema=schema)\n",
    "            if not os.path.exists(parquet_file):\n",
    "                pq.write_table(table, parquet_file)\n",
    "            else:\n",
    "                existing_table = pq.read_table(parquet_file)\n",
    "                combined_table = pa.concat_tables([existing_table, table])\n",
    "                pq.write_table(combined_table, parquet_file)\n",
    " \n",
    "            print(f\"Appended records starting from index {current_start_number} to {parquet_file}\")\n",
    " \n",
    "            current_start_number += records_per_request\n",
    " \n",
    "            # Wait for 30 seconds before fetching the next set of records\n",
    "            time.sleep(30)\n",
    "        else:\n",
    "            print(f\"Request failed with status code {response.status_code}\")\n",
    "            print(response.text)\n",
    "            break\n",
    " \n",
    "except requests.exceptions.RequestException as e:\n",
    "    print(f\"Error with API request: {e}\")\n",
    " \n",
    "print(f\"Data saved to {parquet_file}\")"
   ]
  },
  {
   "cell_type": "code",
   "execution_count": null,
   "id": "a70d6400-5bbf-4856-8e37-940ea61b6ae9",
   "metadata": {},
   "outputs": [],
   "source": []
  },
  {
   "cell_type": "code",
   "execution_count": null,
   "id": "1ed7644a-e2d1-4d0d-a61c-badec53c171a",
   "metadata": {},
   "outputs": [],
   "source": []
  }
 ],
 "metadata": {
  "kernelspec": {
   "display_name": "Python 3 (ipykernel)",
   "language": "python",
   "name": "python3"
  },
  "language_info": {
   "codemirror_mode": {
    "name": "ipython",
    "version": 3
   },
   "file_extension": ".py",
   "mimetype": "text/x-python",
   "name": "python",
   "nbconvert_exporter": "python",
   "pygments_lexer": "ipython3",
   "version": "3.11.6"
  }
 },
 "nbformat": 4,
 "nbformat_minor": 5
}
