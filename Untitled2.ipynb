{
 "cells": [
  {
   "cell_type": "code",
   "execution_count": 8,
   "id": "685bc277-5b74-4a26-9e8b-e71acdc1dfdb",
   "metadata": {},
   "outputs": [],
   "source": [
    "!python3 -m venv '.venv'"
   ]
  },
  {
   "cell_type": "code",
   "execution_count": 11,
   "id": "52e85cc4-cb78-4a60-a8b5-2c1cfbda4a6e",
   "metadata": {},
   "outputs": [],
   "source": [
    "!source '.venv/bin/activate'"
   ]
  },
  {
   "cell_type": "code",
   "execution_count": 12,
   "id": "3f6387bd-49bb-4129-b454-eb040f49acf6",
   "metadata": {},
   "outputs": [
    {
     "name": "stdout",
     "output_type": "stream",
     "text": [
      "Defaulting to user installation because normal site-packages is not writeable\n",
      "Collecting snowflake\n",
      "  Downloading snowflake-0.10.0-py3-none-any.whl.metadata (2.0 kB)\n",
      "Collecting snowflake-core==0.10.0 (from snowflake)\n",
      "  Downloading snowflake_core-0.10.0-py3-none-any.whl.metadata (1.8 kB)\n",
      "Collecting snowflake-legacy (from snowflake)\n",
      "  Downloading snowflake_legacy-0.10.0-py3-none-any.whl.metadata (2.5 kB)\n",
      "Requirement already satisfied: atpublic>=4 in /home/niranjan_reddy/.local/lib/python3.10/site-packages (from snowflake-core==0.10.0->snowflake) (4.1.0)\n",
      "Requirement already satisfied: pydantic>=2 in /home/niranjan_reddy/.local/lib/python3.10/site-packages (from snowflake-core==0.10.0->snowflake) (2.7.3)\n",
      "Requirement already satisfied: python-dateutil>=2.8.2 in /home/niranjan_reddy/.local/lib/python3.10/site-packages (from snowflake-core==0.10.0->snowflake) (2.9.0.post0)\n",
      "Requirement already satisfied: requests in /home/niranjan_reddy/.local/lib/python3.10/site-packages (from snowflake-core==0.10.0->snowflake) (2.32.3)\n",
      "Requirement already satisfied: snowflake-snowpark-python<2.0.0,>=1.5.0 in /home/niranjan_reddy/.local/lib/python3.10/site-packages (from snowflake-core==0.10.0->snowflake) (1.19.0)\n",
      "Requirement already satisfied: urllib3 in /usr/lib/python3/dist-packages (from snowflake-core==0.10.0->snowflake) (1.26.5)\n",
      "Requirement already satisfied: annotated-types>=0.4.0 in /home/niranjan_reddy/.local/lib/python3.10/site-packages (from pydantic>=2->snowflake-core==0.10.0->snowflake) (0.7.0)\n",
      "Requirement already satisfied: pydantic-core==2.18.4 in /home/niranjan_reddy/.local/lib/python3.10/site-packages (from pydantic>=2->snowflake-core==0.10.0->snowflake) (2.18.4)\n",
      "Requirement already satisfied: typing-extensions>=4.6.1 in /home/niranjan_reddy/.local/lib/python3.10/site-packages (from pydantic>=2->snowflake-core==0.10.0->snowflake) (4.12.2)\n",
      "Requirement already satisfied: six>=1.5 in /usr/lib/python3/dist-packages (from python-dateutil>=2.8.2->snowflake-core==0.10.0->snowflake) (1.16.0)\n",
      "Requirement already satisfied: setuptools>=40.6.0 in /home/niranjan_reddy/.local/lib/python3.10/site-packages (from snowflake-snowpark-python<2.0.0,>=1.5.0->snowflake-core==0.10.0->snowflake) (70.0.0)\n",
      "Requirement already satisfied: wheel in /usr/lib/python3/dist-packages (from snowflake-snowpark-python<2.0.0,>=1.5.0->snowflake-core==0.10.0->snowflake) (0.37.1)\n",
      "Requirement already satisfied: snowflake-connector-python<4.0.0,>=3.10.0 in /home/niranjan_reddy/.local/lib/python3.10/site-packages (from snowflake-snowpark-python<2.0.0,>=1.5.0->snowflake-core==0.10.0->snowflake) (3.10.1)\n",
      "Requirement already satisfied: pyyaml in /home/niranjan_reddy/.local/lib/python3.10/site-packages (from snowflake-snowpark-python<2.0.0,>=1.5.0->snowflake-core==0.10.0->snowflake) (6.0.1)\n",
      "Requirement already satisfied: cloudpickle!=2.1.0,!=2.2.0,<=2.2.1,>=1.6.0 in /home/niranjan_reddy/.local/lib/python3.10/site-packages (from snowflake-snowpark-python<2.0.0,>=1.5.0->snowflake-core==0.10.0->snowflake) (2.2.1)\n",
      "Requirement already satisfied: charset-normalizer<4,>=2 in /home/niranjan_reddy/.local/lib/python3.10/site-packages (from requests->snowflake-core==0.10.0->snowflake) (3.3.2)\n",
      "Requirement already satisfied: idna<4,>=2.5 in /usr/lib/python3/dist-packages (from requests->snowflake-core==0.10.0->snowflake) (3.3)\n",
      "Requirement already satisfied: certifi>=2017.4.17 in /usr/lib/python3/dist-packages (from requests->snowflake-core==0.10.0->snowflake) (2020.6.20)\n",
      "Requirement already satisfied: asn1crypto<2.0.0,>0.24.0 in /home/niranjan_reddy/.local/lib/python3.10/site-packages (from snowflake-connector-python<4.0.0,>=3.10.0->snowflake-snowpark-python<2.0.0,>=1.5.0->snowflake-core==0.10.0->snowflake) (1.5.1)\n",
      "Requirement already satisfied: cffi<2.0.0,>=1.9 in /home/niranjan_reddy/.local/lib/python3.10/site-packages (from snowflake-connector-python<4.0.0,>=3.10.0->snowflake-snowpark-python<2.0.0,>=1.5.0->snowflake-core==0.10.0->snowflake) (1.16.0)\n",
      "Requirement already satisfied: cryptography<43.0.0,>=3.1.0 in /home/niranjan_reddy/.local/lib/python3.10/site-packages (from snowflake-connector-python<4.0.0,>=3.10.0->snowflake-snowpark-python<2.0.0,>=1.5.0->snowflake-core==0.10.0->snowflake) (42.0.8)\n",
      "Requirement already satisfied: pyOpenSSL<25.0.0,>=16.2.0 in /home/niranjan_reddy/.local/lib/python3.10/site-packages (from snowflake-connector-python<4.0.0,>=3.10.0->snowflake-snowpark-python<2.0.0,>=1.5.0->snowflake-core==0.10.0->snowflake) (24.1.0)\n",
      "Requirement already satisfied: pyjwt<3.0.0 in /usr/lib/python3/dist-packages (from snowflake-connector-python<4.0.0,>=3.10.0->snowflake-snowpark-python<2.0.0,>=1.5.0->snowflake-core==0.10.0->snowflake) (2.3.0)\n",
      "Requirement already satisfied: pytz in /usr/lib/python3/dist-packages (from snowflake-connector-python<4.0.0,>=3.10.0->snowflake-snowpark-python<2.0.0,>=1.5.0->snowflake-core==0.10.0->snowflake) (2022.1)\n",
      "Requirement already satisfied: packaging in /home/niranjan_reddy/.local/lib/python3.10/site-packages (from snowflake-connector-python<4.0.0,>=3.10.0->snowflake-snowpark-python<2.0.0,>=1.5.0->snowflake-core==0.10.0->snowflake) (24.1)\n",
      "Requirement already satisfied: filelock<4,>=3.5 in /home/niranjan_reddy/.local/lib/python3.10/site-packages (from snowflake-connector-python<4.0.0,>=3.10.0->snowflake-snowpark-python<2.0.0,>=1.5.0->snowflake-core==0.10.0->snowflake) (3.15.4)\n",
      "Requirement already satisfied: sortedcontainers>=2.4.0 in /home/niranjan_reddy/.local/lib/python3.10/site-packages (from snowflake-connector-python<4.0.0,>=3.10.0->snowflake-snowpark-python<2.0.0,>=1.5.0->snowflake-core==0.10.0->snowflake) (2.4.0)\n",
      "Requirement already satisfied: platformdirs<5.0.0,>=2.6.0 in /home/niranjan_reddy/.local/lib/python3.10/site-packages (from snowflake-connector-python<4.0.0,>=3.10.0->snowflake-snowpark-python<2.0.0,>=1.5.0->snowflake-core==0.10.0->snowflake) (4.2.2)\n",
      "Requirement already satisfied: tomlkit in /home/niranjan_reddy/.local/lib/python3.10/site-packages (from snowflake-connector-python<4.0.0,>=3.10.0->snowflake-snowpark-python<2.0.0,>=1.5.0->snowflake-core==0.10.0->snowflake) (0.12.5)\n",
      "Requirement already satisfied: pycparser in /home/niranjan_reddy/.local/lib/python3.10/site-packages (from cffi<2.0.0,>=1.9->snowflake-connector-python<4.0.0,>=3.10.0->snowflake-snowpark-python<2.0.0,>=1.5.0->snowflake-core==0.10.0->snowflake) (2.22)\n",
      "Downloading snowflake-0.10.0-py3-none-any.whl (5.6 kB)\n",
      "Downloading snowflake_core-0.10.0-py3-none-any.whl (625 kB)\n",
      "\u001b[2K   \u001b[38;2;114;156;31m━━━━━━━━━━━━━━━━━━━━━━━━━━━━━━━━━━━━━━━━\u001b[0m \u001b[32m625.9/625.9 kB\u001b[0m \u001b[31m3.0 MB/s\u001b[0m eta \u001b[36m0:00:00\u001b[0m[31m2.7 MB/s\u001b[0m eta \u001b[36m0:00:01\u001b[0m\n",
      "\u001b[?25hDownloading snowflake_legacy-0.10.0-py3-none-any.whl (3.1 kB)\n",
      "Installing collected packages: snowflake-legacy, snowflake-core, snowflake\n",
      "  Attempting uninstall: snowflake-core\n",
      "    Found existing installation: snowflake.core 0.8.0\n",
      "    Uninstalling snowflake.core-0.8.0:\n",
      "      Successfully uninstalled snowflake.core-0.8.0\n",
      "\u001b[31mERROR: pip's dependency resolver does not currently take into account all the packages that are installed. This behaviour is the source of the following dependency conflicts.\n",
      "snowflake-cli-labs 2.5.0 requires snowflake-core==0.8.0; python_version < \"3.12\", but you have snowflake-core 0.10.0 which is incompatible.\u001b[0m\u001b[31m\n",
      "\u001b[0mSuccessfully installed snowflake-0.10.0 snowflake-core-0.10.0 snowflake-legacy-0.10.0\n"
     ]
    }
   ],
   "source": [
    "!pip install snowflake -U"
   ]
  },
  {
   "cell_type": "code",
   "execution_count": 16,
   "id": "38254151-e51d-4200-952c-d945c1d11a32",
   "metadata": {},
   "outputs": [
    {
     "name": "stdout",
     "output_type": "stream",
     "text": [
      "<snowflake.core.database._generated.models.database.DatabaseModel object at 0x7332158199c0>\n",
      "<snowflake.core._root.Root object at 0x7332165a2170>\n"
     ]
    }
   ],
   "source": [
    "from snowflake.snowpark import Session\n",
    "from snowflake.core import Root,CreateMode\n",
    "from snowflake.core.database import Database\n",
    "from snowflake.core.schema import Schema\n",
    "from snowflake.core.table import Table, TableColumn, PrimaryKey\n",
    "from snowflake.core.warehouse import Warehouse\n",
    "from snowflake.core._common import CreateMode\n",
    "from snowflake.core import Root\n",
    "\n",
    "\n",
    "CONNECTION_PARAMETERS = dict(\n",
    "   account = 'lhnbyii-ne59987',\n",
    "    user = 'niranjan',\n",
    "    password = 'Lakshmi1234@',\n",
    "    database = 'COMPUTE_WH',\n",
    "    schema = 'Employee',\n",
    "    role = 'ACCOUNTADMIN',\n",
    "    warehouse = 'COMPUTE_WH',\n",
    " )\n",
    "session = Session.builder.configs(CONNECTION_PARAMETERS).create()\n",
    "root = Root(session)\n",
    "database=Database(\"new_DB\")\n",
    "print(database)\n",
    "print(root)"
   ]
  },
  {
   "cell_type": "code",
   "execution_count": 19,
   "id": "e9c8b3f8-7d78-4709-bd35-1665bb7d6609",
   "metadata": {},
   "outputs": [],
   "source": [
    "database = root.databases.create(\n",
    "  Database(\n",
    "    name=\"PYTHON_API_DB\"),\n",
    "    mode=CreateMode.or_replace\n",
    "  )\n",
    "schema = database.schemas.create(\n",
    "  Schema(\n",
    "    name=\"PYTHON_API_SCHEMA\"),\n",
    "    mode=CreateMode.or_replace,\n",
    "  )\n",
    "table = schema.tables.create(\n",
    "  Table(\n",
    "    name=\"PYTHON_API_TABLE\",\n",
    "    columns=[\n",
    "      TableColumn(\n",
    "        name=\"TEMPERATURE\",\n",
    "        datatype=\"int\",\n",
    "        nullable=False,\n",
    "      ),\n",
    "      TableColumn(\n",
    "        name=\"LOCATION\",\n",
    "        datatype=\"string\",\n",
    "      ),\n",
    "    ],\n",
    "  ),\n",
    "mode=CreateMode.or_replace\n",
    ")"
   ]
  },
  {
   "cell_type": "code",
   "execution_count": 23,
   "id": "1a7baffe-921f-4792-8870-64c8983e05f6",
   "metadata": {},
   "outputs": [
    {
     "data": {
      "text/plain": [
       "{'name': 'PYTHON_API_TABLE',\n",
       " 'kind': '',\n",
       " 'enable_schema_evolution': False,\n",
       " 'change_tracking': False,\n",
       " 'data_retention_time_in_days': 1,\n",
       " 'max_data_extension_time_in_days': 14,\n",
       " 'default_ddl_collation': '',\n",
       " 'columns': [{'name': 'TEMPERATURE',\n",
       "   'datatype': 'NUMBER(38,0)',\n",
       "   'nullable': False},\n",
       "  {'name': 'LOCATION', 'datatype': 'VARCHAR(16777216)', 'nullable': True}]}"
      ]
     },
     "execution_count": 23,
     "metadata": {},
     "output_type": "execute_result"
    }
   ],
   "source": [
    "table_details = table.fetch()\n",
    "table_details.to_dict()"
   ]
  },
  {
   "cell_type": "code",
   "execution_count": 26,
   "id": "25794815-0c83-42cb-bae5-8ac18a2f3f97",
   "metadata": {},
   "outputs": [],
   "source": [
    "table_details.columns.append(\n",
    "    TableColumn(\n",
    "      name=\"elevation\",\n",
    "      datatype=\"int\",\n",
    "      nullable=False,\n",
    "      constraints=[PrimaryKey()],\n",
    "    )\n",
    ")\n"
   ]
  },
  {
   "cell_type": "code",
   "execution_count": 28,
   "id": "05f239dd-6da2-4acc-b648-5e1dd9fc3aec",
   "metadata": {},
   "outputs": [
    {
     "data": {
      "text/plain": [
       "{'name': 'PYTHON_API_TABLE',\n",
       " 'kind': '',\n",
       " 'enable_schema_evolution': False,\n",
       " 'change_tracking': False,\n",
       " 'data_retention_time_in_days': 1,\n",
       " 'max_data_extension_time_in_days': 14,\n",
       " 'default_ddl_collation': '',\n",
       " 'columns': [{'name': 'TEMPERATURE',\n",
       "   'datatype': 'NUMBER(38,0)',\n",
       "   'nullable': False},\n",
       "  {'name': 'LOCATION', 'datatype': 'VARCHAR(16777216)', 'nullable': True}]}"
      ]
     },
     "execution_count": 28,
     "metadata": {},
     "output_type": "execute_result"
    }
   ],
   "source": [
    "table_details = table.fetch()\n",
    "table_details.to_dict()"
   ]
  },
  {
   "cell_type": "code",
   "execution_count": 29,
   "id": "a6d0aaf9-0fd7-468c-ba20-c315ecc62b50",
   "metadata": {},
   "outputs": [],
   "source": [
    "warehouses = root.warehouses"
   ]
  },
  {
   "cell_type": "code",
   "execution_count": 30,
   "id": "46937e82-cc41-454d-bbc3-61b92c9b395c",
   "metadata": {},
   "outputs": [],
   "source": [
    "python_api_wh = Warehouse(\n",
    "    name=\"PYTHON_API_WH\",\n",
    "    warehouse_size=\"SMALL\",\n",
    "    auto_suspend=500,\n",
    ")\n",
    "\n",
    "warehouse = warehouses.create(python_api_wh,mode=CreateMode.or_replace)"
   ]
  },
  {
   "cell_type": "code",
   "execution_count": 31,
   "id": "d8e167cf-5466-42a5-94db-3a6b79c4326e",
   "metadata": {},
   "outputs": [
    {
     "data": {
      "text/plain": [
       "{'name': 'PYTHON_API_WH',\n",
       " 'warehouse_type': 'STANDARD',\n",
       " 'warehouse_size': 'Small',\n",
       " 'auto_suspend': 500,\n",
       " 'auto_resume': 'true',\n",
       " 'resource_monitor': 'null',\n",
       " 'comment': '',\n",
       " 'max_concurrency_level': 8,\n",
       " 'statement_queued_timeout_in_seconds': 0,\n",
       " 'statement_timeout_in_seconds': 172800,\n",
       " 'type': 'STANDARD',\n",
       " 'size': 'Small'}"
      ]
     },
     "execution_count": 31,
     "metadata": {},
     "output_type": "execute_result"
    }
   ],
   "source": [
    "warehouse_details = warehouse.fetch()\n",
    "warehouse_details.to_dict()"
   ]
  },
  {
   "cell_type": "code",
   "execution_count": 32,
   "id": "cc324fca-dc21-4df8-ba08-74075af4918f",
   "metadata": {},
   "outputs": [
    {
     "data": {
      "text/plain": [
       "{'name': 'PYTHON_API_WH',\n",
       " 'warehouse_type': 'STANDARD',\n",
       " 'warehouse_size': 'Small',\n",
       " 'auto_suspend': 500,\n",
       " 'auto_resume': 'true',\n",
       " 'resource_monitor': 'null',\n",
       " 'comment': '',\n",
       " 'max_concurrency_level': 8,\n",
       " 'statement_queued_timeout_in_seconds': 0,\n",
       " 'statement_timeout_in_seconds': 172800,\n",
       " 'type': 'STANDARD',\n",
       " 'size': 'Small'}"
      ]
     },
     "execution_count": 32,
     "metadata": {},
     "output_type": "execute_result"
    }
   ],
   "source": [
    "warehouse_list = warehouses.iter(like=\"PYTHON_API_WH\")\n",
    "result = next(warehouse_list)\n",
    "result.to_dict()"
   ]
  },
  {
   "cell_type": "code",
   "execution_count": 33,
   "id": "b009724b-10bc-4488-ac52-fd37733df0b3",
   "metadata": {},
   "outputs": [],
   "source": [
    "warehouse = root.warehouses.create(Warehouse(\n",
    "    name=\"PYTHON_API_WH\",\n",
    "    warehouse_size=\"LARGE\",\n",
    "    auto_suspend=500,\n",
    "), mode=CreateMode.or_replace)"
   ]
  },
  {
   "cell_type": "code",
   "execution_count": 34,
   "id": "7b106fb8-5923-4d7b-9dbd-e7766ecca7d3",
   "metadata": {},
   "outputs": [
    {
     "data": {
      "text/plain": [
       "'Large'"
      ]
     },
     "execution_count": 34,
     "metadata": {},
     "output_type": "execute_result"
    }
   ],
   "source": [
    "warehouse.fetch().size"
   ]
  },
  {
   "cell_type": "code",
   "execution_count": 35,
   "id": "3f433d4a-8289-48bd-af1a-f832ec6d9c64",
   "metadata": {},
   "outputs": [],
   "source": [
    "warehouse.delete()"
   ]
  },
  {
   "cell_type": "code",
   "execution_count": null,
   "id": "2a12f5f3-3a5c-4d1c-a3a5-f1c92799b560",
   "metadata": {},
   "outputs": [],
   "source": []
  }
 ],
 "metadata": {
  "kernelspec": {
   "display_name": "Python 3 (ipykernel)",
   "language": "python",
   "name": "python3"
  },
  "language_info": {
   "codemirror_mode": {
    "name": "ipython",
    "version": 3
   },
   "file_extension": ".py",
   "mimetype": "text/x-python",
   "name": "python",
   "nbconvert_exporter": "python",
   "pygments_lexer": "ipython3",
   "version": "3.10.12"
  }
 },
 "nbformat": 4,
 "nbformat_minor": 5
}
